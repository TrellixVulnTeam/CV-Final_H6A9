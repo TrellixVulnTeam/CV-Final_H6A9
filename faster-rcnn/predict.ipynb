{
 "cells": [
  {
   "cell_type": "code",
   "execution_count": 1,
   "metadata": {},
   "outputs": [],
   "source": [
    "import zipfile\n",
    "import os\n",
    "\n",
    "\n",
    "def un_zip(file_name, dst):\n",
    "    \"\"\"解压 zip 文件\"\"\"\n",
    "    zip_file = zipfile.ZipFile(file_name)\n",
    "    if os.path.isdir(dst):\n",
    "        pass\n",
    "    else:\n",
    "        os.mkdir(dst)\n",
    "    for names in zip_file.namelist():\n",
    "        zip_file.extract(names, dst)\n",
    "    zip_file.close()\n",
    "\n",
    "un_zip('VOCdevkit/VOC07+12+test.zip', '.')"
   ]
  },
  {
   "cell_type": "code",
   "execution_count": 2,
   "metadata": {},
   "outputs": [
    {
     "name": "stderr",
     "output_type": "stream",
     "text": [
      "\r",
      "  0%|          | 0/12 [00:00<?, ?it/s]"
     ]
    },
    {
     "name": "stdout",
     "output_type": "stream",
     "text": [
      "logs/best_epoch_weights.pth model, anchors, and classes loaded.\n",
      "Configurations:\n",
      "----------------------------------------------------------------------\n",
      "|                     keys |                                   values|\n",
      "----------------------------------------------------------------------\n",
      "|               model_path |              logs/best_epoch_weights.pth|\n",
      "|             classes_path |               model_data/voc_classes.txt|\n",
      "|                 backbone |                                      vgg|\n",
      "|               confidence |                                      0.5|\n",
      "|                  nms_iou |                                      0.3|\n",
      "|             anchors_size |                              [8, 16, 32]|\n",
      "|                     cuda |                                     True|\n",
      "----------------------------------------------------------------------\n"
     ]
    },
    {
     "name": "stderr",
     "output_type": "stream",
     "text": [
      "100%|██████████| 12/12 [00:01<00:00,  6.54it/s]\n"
     ]
    }
   ],
   "source": [
    "run predict.py"
   ]
  },
  {
   "cell_type": "code",
   "execution_count": null,
   "metadata": {},
   "outputs": [],
   "source": []
  }
 ],
 "metadata": {
  "kernelspec": {
   "display_name": "Python [conda env:dl10]",
   "language": "python",
   "name": "conda-env-dl10-py"
  },
  "language_info": {
   "codemirror_mode": {
    "name": "ipython",
    "version": 3
   },
   "file_extension": ".py",
   "mimetype": "text/x-python",
   "name": "python",
   "nbconvert_exporter": "python",
   "pygments_lexer": "ipython3",
   "version": "3.6.9"
  }
 },
 "nbformat": 4,
 "nbformat_minor": 2
}
